{
 "cells": [
  {
   "cell_type": "markdown",
   "metadata": {},
   "source": [
    "Below the use of a class tailored for cross-validating logistic regression, RF and XGBoost classifiers will be demonstrated on the two differing datasets obtained in the repository's data prep section."
   ]
  },
  {
   "cell_type": "code",
   "execution_count": 16,
   "metadata": {},
   "outputs": [],
   "source": [
    "import pickle\n",
    "import numpy as np\n",
    "import matplotlib.pyplot as plt\n",
    "plt.style.use('seaborn-v0_8')\n",
    "import pandas as pd\n",
    "import seaborn as sns\n",
    "\n",
    "from xgboost import XGBClassifier\n",
    "from sklearn.ensemble import RandomForestClassifier\n",
    "from sklearn.linear_model import LogisticRegression\n",
    "from sklearn.preprocessing import StandardScaler\n",
    "from sklearn.pipeline import make_pipeline\n",
    "from sklearn.pipeline import Pipeline\n",
    "from sklearn.compose import ColumnTransformer\n",
    "from sklearn.model_selection import cross_val_score\n",
    "from sklearn.model_selection import RepeatedStratifiedKFold\n",
    "from sklearn.model_selection import GridSearchCV"
   ]
  },
  {
   "cell_type": "code",
   "execution_count": 28,
   "metadata": {},
   "outputs": [],
   "source": [
    "# Importing the dataset where some of the features were dropped based on t-test results\n",
    "train_path='/home/RDC/anasashb/Dokumente/brent_price_forecasting/data_prep_and_selection/train_small.pkl' \n",
    "test_path='/home/RDC/anasashb/Dokumente/brent_price_forecasting/data_prep_and_selection/test_small.pkl'\n",
    "\n",
    "with open(train_path, 'rb') as f:\n",
    "    train = pickle.load(f)\n",
    "\n",
    "with open(test_path, 'rb') as f:\n",
    "    test = pickle.load(f)"
   ]
  },
  {
   "cell_type": "code",
   "execution_count": 31,
   "metadata": {},
   "outputs": [
    {
     "name": "stdout",
     "output_type": "stream",
     "text": [
      "Train set shapes - X: (980, 12), y: (980,)\n",
      "Test set shapes - X: (245, 12), y: (245,)\n"
     ]
    }
   ],
   "source": [
    "# Generate sets for predictors and targets\n",
    "X_train = train.drop('BAD', axis=1)\n",
    "y_train = train['BAD']\n",
    "X_test = test.drop('BAD', axis=1)\n",
    "y_test = test['BAD']\n",
    "\n",
    "print(f'Train set shapes - X: {X_train.shape}, y: {y_train.shape}\\nTest set shapes - X: {X_test.shape}, y: {y_test.shape}')"
   ]
  },
  {
   "cell_type": "code",
   "execution_count": 59,
   "metadata": {},
   "outputs": [],
   "source": [
    "# Importing the dataset without excluded features\n",
    "train_large_path='/home/RDC/anasashb/Dokumente/brent_price_forecasting/data_prep_and_selection/train.pkl' \n",
    "test_large_path='/home/RDC/anasashb/Dokumente/brent_price_forecasting/data_prep_and_selection/test.pkl'\n",
    "\n",
    "with open(train_large_path, 'rb') as f:\n",
    "    train_large = pickle.load(f)\n",
    "\n",
    "with open(test_large_path, 'rb') as f:\n",
    "    test_large = pickle.load(f)"
   ]
  },
  {
   "cell_type": "code",
   "execution_count": 64,
   "metadata": {},
   "outputs": [
    {
     "name": "stdout",
     "output_type": "stream",
     "text": [
      "Train set shapes - X: (980, 18), y: (980,)\n",
      "Test set shapes - X: (245, 18), y: (245,)\n"
     ]
    }
   ],
   "source": [
    "# Generate sets for predictors and targets\n",
    "X_train_large = train_large.drop('BAD', axis=1)\n",
    "y_train_large = train_large['BAD']\n",
    "X_test_large = test_large.drop('BAD', axis=1)\n",
    "y_test_large = test_large['BAD']\n",
    "\n",
    "print(f'Train set shapes - X: {X_train_large.shape}, y: {y_train_large.shape}\\nTest set shapes - X: {X_test_large.shape}, y: {y_test_large.shape}')"
   ]
  },
  {
   "cell_type": "markdown",
   "metadata": {},
   "source": [
    "### **Model Validation Class**\n",
    "\n",
    "The validation class includes methods to 5-fold cross validate Logistic regression, Random Forest and XGBoost classifiers. Besides, grid search methods are included for RF and XGB. "
   ]
  },
  {
   "cell_type": "code",
   "execution_count": 50,
   "metadata": {},
   "outputs": [],
   "source": [
    "# Here we begin defining the class\n",
    "# Cross-validation will be included in all models\n",
    "\n",
    "class ModelValidator:\n",
    "    '''\n",
    "    A custom class to wrap up model k-fold validation functionalities.\n",
    "    '''\n",
    "\n",
    "    # Defining initial arguments\n",
    "    def __init__(self, X, y):\n",
    "        # Defining initial class inputs as self arguments\n",
    "        self.X = X\n",
    "        self.y = y\n",
    "\n",
    "    def Logit_validate(self):\n",
    "        '''\n",
    "        Fits a Logistic regression model given predictors and a target. \n",
    "        \n",
    "        Args:\n",
    "            alpha: The L2 penalty value - also called lambda for Ridge Regression.\n",
    "            tuning: Boolean argument. If set to True, a grid search will be carried out for alpha values\n",
    "                between 0.01 and 1 with step size of 0.01. \n",
    "                Note that setting to 0 (linear regression without any penalties ) will cause model to break down.\n",
    "        Returns:\n",
    "            logit_scores: An array of 15 ROC-AUC scores obtained from fitting the five folds three times. \n",
    "        '''\n",
    "\n",
    "        # Define cross validation method\n",
    "        # Use five fold\n",
    "        cv = RepeatedStratifiedKFold(n_splits = 5, n_repeats = 3, random_state = 66)\n",
    "        # Set up model\n",
    "        model = LogisticRegression()\n",
    "\n",
    "        # To avoid scaling dummy variables\n",
    "        non_binary = [col for col in self.X.columns if self.X[col].nunique()>2]\n",
    "        scaler = ColumnTransformer(\n",
    "            transformers=[\n",
    "                ('scale', StandardScaler(), non_binary)\n",
    "                ],\n",
    "                remainder='passthrough'\n",
    "                )  \n",
    "\n",
    "        # Using make_pipeline for our purposes should ensure there is no data leakage \n",
    "        # while scaling the folds\n",
    "        pipeline = make_pipeline(scaler, model)\n",
    "        \n",
    "        # ROC-AUC for robust evaluation\n",
    "        logit_scores = cross_val_score(pipeline, self.X, self.y, scoring = 'roc_auc', cv = cv, n_jobs = -1)\n",
    "\n",
    "        print('Results:')\n",
    "        print('-'*100)\n",
    "        print(f'Logistic Regression ROC-AUC: {np.mean(logit_scores):.4f} | Standard Deviation: {np.std(logit_scores):.4f} |')\n",
    "        print('='*100)\n",
    "\n",
    "        return logit_scores\n",
    "    \n",
    "    \n",
    "    def RF_search(self,\n",
    "                  estimator_range=(50,1001,50),\n",
    "                  depth_range=(10,51,10)):\n",
    "\n",
    "        '''\n",
    "        Simple method to conduct grid search for Random Forest Classifier.\n",
    "        \n",
    "        Args:\n",
    "            estimator_range: (min, max, step) tuple of integers for n_estimators in parameter grid \n",
    "            depth_range: (min, max, step) tuple of integers for max_depth in parameter grid \n",
    "        Returns:\n",
    "            best_estimator, best_score\n",
    "        '''\n",
    "        # Set up cv\n",
    "        cv = RepeatedStratifiedKFold(n_splits=5, n_repeats=3, random_state=66)\n",
    "        # Set up model \n",
    "        model = RandomForestClassifier(random_state=66)\n",
    "        # Set up grid\n",
    "        param_grid = {\n",
    "            'n_estimators': list(range(estimator_range[0], estimator_range[1], estimator_range[2])),\n",
    "            'max_depth': list(range(depth_range[0], depth_range[1], depth_range[2]))\n",
    "        }\n",
    "        # Set up search\n",
    "        search = GridSearchCV(model, param_grid, scoring='roc_auc', cv=cv, n_jobs=-1, verbose=1)\n",
    "        # Run search\n",
    "        search.fit(self.X, self.y)\n",
    "        print('Results:')\n",
    "        print('-'*100)\n",
    "        print(f'Best RF ROC-AUC score: {search.best_score_:.4f}')\n",
    "        print(f'Best Parameters: {search.best_params_}')\n",
    "        print('='*100)\n",
    "        \n",
    "        return search.best_estimator_, search.best_score_\n",
    "\n",
    "    def RF_validate(self,\n",
    "                    n_estimators = 100,\n",
    "                    max_depth = 20,\n",
    "                    min_samples_split = 2,\n",
    "                    max_features = 'sqrt'):\n",
    "        '''\n",
    "        Fits and cross validates Random Forest classification model given predictors and a target.\n",
    "\n",
    "        Args:\n",
    "            n_estimators: How many trees to include in the ensemble (100 by default)\n",
    "            max_depth: Maximum depth of a tree (20 by default)\n",
    "            min_samples_split: Minimum amount of samples to split a node (2 by default)\n",
    "            max_features: Number of features to consider when searching for best split ('sqrt' by default)\n",
    "\n",
    "        Returns:\n",
    "            rf_scores: An array of 15 ROC-AUC scores obtained from fitting the five folds three times.\n",
    "\n",
    "        '''\n",
    "        # Set up CV\n",
    "        cv = RepeatedStratifiedKFold(n_splits = 5, n_repeats = 3, random_state = 66)\n",
    "        model = RandomForestClassifier(n_estimators = n_estimators,\n",
    "                                      max_depth = max_depth,\n",
    "                                      min_samples_split = min_samples_split,\n",
    "                                      max_features = max_features,\n",
    "                                      random_state = 66\n",
    "                                      )\n",
    "        # Same scoring\n",
    "        rf_scores = cross_val_score(model, self.X, self.y, scoring = 'roc_auc', cv = cv, n_jobs = -1)\n",
    "        \n",
    "        print('Results:')\n",
    "        print('-'*100)\n",
    "        print(f'RF Classifier ROC-AUC:: {np.mean(rf_scores):.4f} | Standard Deviation: {np.std(rf_scores):.4f} |')\n",
    "        print('='*100)\n",
    "\n",
    "        return rf_scores\n",
    "    \n",
    "\n",
    "    def XGB_search(self,\n",
    "                  estimator_range=(50,1001,50),\n",
    "                  depth_range=(2,11,1),\n",
    "                  lr_range=[0.01, 0.05, 0.1, 0.3, 0.5]):\n",
    "\n",
    "        '''\n",
    "        Simple method to conduct grid search for XGBoost Classifier.\n",
    "        \n",
    "        Args:\n",
    "            estimator_range: (min, max, step) tuple of integers for n_estimators in parameter grid \n",
    "            depth_range: (min, max, step) tuple of integers for max_depth in parameter grid\n",
    "            lr_range: list of floats for learning_rate in param grid \n",
    "        Returns:\n",
    "            best_estimator, best_score\n",
    "        '''\n",
    "        # Set up cv\n",
    "        cv = RepeatedStratifiedKFold(n_splits=5, n_repeats=3, random_state=66)\n",
    "        # Set up model \n",
    "        model = XGBClassifier(eval_metric='logloss', random_state=66)\n",
    "        # Set up grid\n",
    "        param_grid = {\n",
    "            'n_estimators': list(range(estimator_range[0], estimator_range[1], estimator_range[2])),\n",
    "            'max_depth': list(range(depth_range[0], depth_range[1], depth_range[2])),\n",
    "            'learning_rate': lr_range\n",
    "        }\n",
    "        # Set up search\n",
    "        search = GridSearchCV(model, param_grid, scoring='roc_auc', cv=cv, n_jobs=-1, verbose=1)\n",
    "        # Run search\n",
    "        search.fit(self.X, self.y)\n",
    "        print('Results:')\n",
    "        print('-'*100)\n",
    "        print(f'Best XGB ROC-AUC score: {search.best_score_:.4f}')\n",
    "        print(f'Best Parameters: {search.best_params_}')\n",
    "        print('='*100)\n",
    "        \n",
    "        return search.best_estimator_, search.best_score_        \n",
    "    \n",
    "    def XGB_validate(self,\n",
    "                    n_estimators = 500,\n",
    "                    max_depth = 5,\n",
    "                    learning_rate=0.3):\n",
    "        '''\n",
    "        Fits an extreme gradient boosting classification model given predictors and a target.\n",
    "\n",
    "        Args:\n",
    "            n_estimators: How many trees to include in the ensemble (500 by default)\n",
    "            max_depth: Maximum depth of a tree (5 by default)\n",
    "            learning_rate: Learning rate (0.3 by default)\n",
    "\n",
    "        Returns:\n",
    "            xgb_scores: An array of 15 ROC-AUC scores obtained from fitting the five folds three times.\n",
    "\n",
    "        '''\n",
    "        # Set up CV\n",
    "        cv = RepeatedStratifiedKFold(n_splits = 5, n_repeats = 3, random_state = 66)\n",
    "        # Set up model\n",
    "        model = XGBClassifier(n_estimators = n_estimators,\n",
    "                                      max_depth = max_depth,\n",
    "                                      learning_rate=learning_rate,\n",
    "                                      random_state = 66\n",
    "                                      )\n",
    "        # Same pipeline\n",
    "        # Same scoring\n",
    "        xgb_scores = cross_val_score(model, self.X, self.y, scoring = 'roc_auc', cv = cv, n_jobs = -1)\n",
    "        \n",
    "        print('Results:')\n",
    "        print('-'*100)\n",
    "        print(f'XGB Classifier ROC-AUC: {np.mean(xgb_scores):.4f} | Standard Deviation: {np.std(xgb_scores):.4f} |')\n",
    "        print('='*100)\n",
    "\n",
    "        return xgb_scores\n"
   ]
  },
  {
   "cell_type": "markdown",
   "metadata": {},
   "source": [
    "### **Validation Runs on Small Dataset**\n",
    "Below the model validation class is used on train set of the smaller dataset, which had features dropped as per t-test results."
   ]
  },
  {
   "cell_type": "code",
   "execution_count": 54,
   "metadata": {},
   "outputs": [],
   "source": [
    "validating_small = ModelValidator(X_train, y_train)"
   ]
  },
  {
   "cell_type": "code",
   "execution_count": 55,
   "metadata": {},
   "outputs": [
    {
     "name": "stdout",
     "output_type": "stream",
     "text": [
      "Results:\n",
      "----------------------------------------------------------------------------------------------------\n",
      "Logistic Regression ROC-AUC: 0.6593 | Standard Deviation: 0.0294 |\n",
      "====================================================================================================\n"
     ]
    }
   ],
   "source": [
    "# Cross validate logit on smaller train set\n",
    "logit_scores_small = validating_small.Logit_validate()"
   ]
  },
  {
   "cell_type": "code",
   "execution_count": 56,
   "metadata": {},
   "outputs": [
    {
     "name": "stdout",
     "output_type": "stream",
     "text": [
      "Fitting 15 folds for each of 100 candidates, totalling 1500 fits\n",
      "Results:\n",
      "----------------------------------------------------------------------------------------------------\n",
      "Best RF ROC-AUC score: 0.6250\n",
      "Best Parameters: {'max_depth': 10, 'n_estimators': 850}\n",
      "====================================================================================================\n"
     ]
    },
    {
     "data": {
      "text/plain": [
       "(RandomForestClassifier(max_depth=10, n_estimators=850, random_state=66),\n",
       " 0.6250285263926861)"
      ]
     },
     "execution_count": 56,
     "metadata": {},
     "output_type": "execute_result"
    }
   ],
   "source": [
    "# Grid search RF on smaller train set\n",
    "validating_small.RF_search()"
   ]
  },
  {
   "cell_type": "code",
   "execution_count": 57,
   "metadata": {},
   "outputs": [
    {
     "name": "stdout",
     "output_type": "stream",
     "text": [
      "Results:\n",
      "----------------------------------------------------------------------------------------------------\n",
      "RF Classifier ROC-AUC:: 0.6250 | Standard Deviation: 0.0341 |\n",
      "====================================================================================================\n"
     ]
    }
   ],
   "source": [
    "rf_scores_small = validating_small.RF_validate(n_estimators=850,\n",
    "                                           max_depth=10)"
   ]
  },
  {
   "cell_type": "code",
   "execution_count": 58,
   "metadata": {},
   "outputs": [
    {
     "name": "stdout",
     "output_type": "stream",
     "text": [
      "Fitting 15 folds for each of 900 candidates, totalling 13500 fits\n",
      "Results:\n",
      "----------------------------------------------------------------------------------------------------\n",
      "Best XGB ROC-AUC score: 0.6492\n",
      "Best Parameters: {'learning_rate': 0.01, 'max_depth': 2, 'n_estimators': 450}\n",
      "====================================================================================================\n"
     ]
    },
    {
     "data": {
      "text/plain": [
       "(XGBClassifier(base_score=None, booster=None, callbacks=None,\n",
       "               colsample_bylevel=None, colsample_bynode=None,\n",
       "               colsample_bytree=None, early_stopping_rounds=None,\n",
       "               enable_categorical=False, eval_metric='logloss',\n",
       "               feature_types=None, gamma=None, gpu_id=None, grow_policy=None,\n",
       "               importance_type=None, interaction_constraints=None,\n",
       "               learning_rate=0.01, max_bin=None, max_cat_threshold=None,\n",
       "               max_cat_to_onehot=None, max_delta_step=None, max_depth=2,\n",
       "               max_leaves=None, min_child_weight=None, missing=nan,\n",
       "               monotone_constraints=None, n_estimators=450, n_jobs=None,\n",
       "               num_parallel_tree=None, predictor=None, random_state=66, ...),\n",
       " 0.6492265117519792)"
      ]
     },
     "execution_count": 58,
     "metadata": {},
     "output_type": "execute_result"
    }
   ],
   "source": [
    "validating_small.XGB_search()"
   ]
  },
  {
   "cell_type": "code",
   "execution_count": 72,
   "metadata": {},
   "outputs": [
    {
     "name": "stdout",
     "output_type": "stream",
     "text": [
      "Results:\n",
      "----------------------------------------------------------------------------------------------------\n",
      "XGB Classifier ROC-AUC: 0.6492 | Standard Deviation: 0.0329 |\n",
      "====================================================================================================\n"
     ]
    }
   ],
   "source": [
    "xgb_scores_small = validating_small.XGB_validate(n_estimators=450, \n",
    "                                                 max_depth=2, \n",
    "                                                 learning_rate=0.01)"
   ]
  },
  {
   "cell_type": "markdown",
   "metadata": {},
   "source": [
    "### **Validation Runs on Large Dataset**\n",
    "Below the model validation class is used on train set of the larger dataset, which had no features dropped."
   ]
  },
  {
   "cell_type": "code",
   "execution_count": 66,
   "metadata": {},
   "outputs": [],
   "source": [
    "validating_large = ModelValidator(X_train_large, y_train_large)"
   ]
  },
  {
   "cell_type": "code",
   "execution_count": 67,
   "metadata": {},
   "outputs": [
    {
     "name": "stdout",
     "output_type": "stream",
     "text": [
      "Results:\n",
      "----------------------------------------------------------------------------------------------------\n",
      "Logistic Regression ROC-AUC: 0.6455 | Standard Deviation: 0.0344 |\n",
      "====================================================================================================\n"
     ]
    }
   ],
   "source": [
    "# Cross validate logit on larger train set\n",
    "logit_scores_large = validating_large.Logit_validate()"
   ]
  },
  {
   "cell_type": "code",
   "execution_count": 68,
   "metadata": {},
   "outputs": [
    {
     "name": "stdout",
     "output_type": "stream",
     "text": [
      "Fitting 15 folds for each of 100 candidates, totalling 1500 fits\n",
      "Results:\n",
      "----------------------------------------------------------------------------------------------------\n",
      "Best RF ROC-AUC score: 0.6397\n",
      "Best Parameters: {'max_depth': 10, 'n_estimators': 250}\n",
      "====================================================================================================\n"
     ]
    },
    {
     "data": {
      "text/plain": [
       "(RandomForestClassifier(max_depth=10, n_estimators=250, random_state=66),\n",
       " 0.6396765115672901)"
      ]
     },
     "execution_count": 68,
     "metadata": {},
     "output_type": "execute_result"
    }
   ],
   "source": [
    "# Grid search RF on smaller train set\n",
    "validating_large.RF_search()"
   ]
  },
  {
   "cell_type": "code",
   "execution_count": 69,
   "metadata": {},
   "outputs": [
    {
     "name": "stdout",
     "output_type": "stream",
     "text": [
      "Results:\n",
      "----------------------------------------------------------------------------------------------------\n",
      "RF Classifier ROC-AUC:: 0.6397 | Standard Deviation: 0.0428 |\n",
      "====================================================================================================\n"
     ]
    }
   ],
   "source": [
    "rf_scores_large = validating_large.RF_validate(n_estimators=250,\n",
    "                                           max_depth=10)"
   ]
  },
  {
   "cell_type": "code",
   "execution_count": 70,
   "metadata": {},
   "outputs": [
    {
     "name": "stdout",
     "output_type": "stream",
     "text": [
      "Fitting 15 folds for each of 900 candidates, totalling 13500 fits\n",
      "Results:\n",
      "----------------------------------------------------------------------------------------------------\n",
      "Best XGB ROC-AUC score: 0.6460\n",
      "Best Parameters: {'learning_rate': 0.05, 'max_depth': 3, 'n_estimators': 150}\n",
      "====================================================================================================\n"
     ]
    },
    {
     "data": {
      "text/plain": [
       "(XGBClassifier(base_score=None, booster=None, callbacks=None,\n",
       "               colsample_bylevel=None, colsample_bynode=None,\n",
       "               colsample_bytree=None, early_stopping_rounds=None,\n",
       "               enable_categorical=False, eval_metric='logloss',\n",
       "               feature_types=None, gamma=None, gpu_id=None, grow_policy=None,\n",
       "               importance_type=None, interaction_constraints=None,\n",
       "               learning_rate=0.05, max_bin=None, max_cat_threshold=None,\n",
       "               max_cat_to_onehot=None, max_delta_step=None, max_depth=3,\n",
       "               max_leaves=None, min_child_weight=None, missing=nan,\n",
       "               monotone_constraints=None, n_estimators=150, n_jobs=None,\n",
       "               num_parallel_tree=None, predictor=None, random_state=66, ...),\n",
       " 0.6460459339678049)"
      ]
     },
     "execution_count": 70,
     "metadata": {},
     "output_type": "execute_result"
    }
   ],
   "source": [
    "validating_large.XGB_search()"
   ]
  },
  {
   "cell_type": "code",
   "execution_count": 73,
   "metadata": {},
   "outputs": [
    {
     "name": "stdout",
     "output_type": "stream",
     "text": [
      "Results:\n",
      "----------------------------------------------------------------------------------------------------\n",
      "XGB Classifier ROC-AUC: 0.6460 | Standard Deviation: 0.0430 |\n",
      "====================================================================================================\n"
     ]
    }
   ],
   "source": [
    "xgb_scores_large = validating_large.XGB_validate(n_estimators=150,\n",
    "                                                 max_depth=3,\n",
    "                                                 learning_rate=0.05)"
   ]
  },
  {
   "cell_type": "markdown",
   "metadata": {},
   "source": [
    "### **Demo Results**"
   ]
  },
  {
   "cell_type": "code",
   "execution_count": 74,
   "metadata": {},
   "outputs": [
    {
     "data": {
      "text/html": [
       "<div>\n",
       "<style scoped>\n",
       "    .dataframe tbody tr th:only-of-type {\n",
       "        vertical-align: middle;\n",
       "    }\n",
       "\n",
       "    .dataframe tbody tr th {\n",
       "        vertical-align: top;\n",
       "    }\n",
       "\n",
       "    .dataframe thead th {\n",
       "        text-align: right;\n",
       "    }\n",
       "</style>\n",
       "<table border=\"1\" class=\"dataframe\">\n",
       "  <thead>\n",
       "    <tr style=\"text-align: right;\">\n",
       "      <th></th>\n",
       "      <th>Logit (small)</th>\n",
       "      <th>Logit (large)</th>\n",
       "      <th>RF (small)</th>\n",
       "      <th>RF (large)</th>\n",
       "      <th>XGB (small)</th>\n",
       "      <th>XGB (large)</th>\n",
       "    </tr>\n",
       "  </thead>\n",
       "  <tbody>\n",
       "    <tr>\n",
       "      <th>0</th>\n",
       "      <td>0.660113</td>\n",
       "      <td>0.659718</td>\n",
       "      <td>0.670009</td>\n",
       "      <td>0.652989</td>\n",
       "      <td>0.641575</td>\n",
       "      <td>0.635968</td>\n",
       "    </tr>\n",
       "    <tr>\n",
       "      <th>1</th>\n",
       "      <td>0.721731</td>\n",
       "      <td>0.700884</td>\n",
       "      <td>0.683072</td>\n",
       "      <td>0.687162</td>\n",
       "      <td>0.738884</td>\n",
       "      <td>0.720148</td>\n",
       "    </tr>\n",
       "    <tr>\n",
       "      <th>2</th>\n",
       "      <td>0.633868</td>\n",
       "      <td>0.595201</td>\n",
       "      <td>0.640649</td>\n",
       "      <td>0.656755</td>\n",
       "      <td>0.643910</td>\n",
       "      <td>0.640128</td>\n",
       "    </tr>\n",
       "    <tr>\n",
       "      <th>3</th>\n",
       "      <td>0.599504</td>\n",
       "      <td>0.576813</td>\n",
       "      <td>0.550078</td>\n",
       "      <td>0.535211</td>\n",
       "      <td>0.587246</td>\n",
       "      <td>0.543492</td>\n",
       "    </tr>\n",
       "    <tr>\n",
       "      <th>4</th>\n",
       "      <td>0.685576</td>\n",
       "      <td>0.672209</td>\n",
       "      <td>0.635759</td>\n",
       "      <td>0.697248</td>\n",
       "      <td>0.634194</td>\n",
       "      <td>0.690728</td>\n",
       "    </tr>\n",
       "    <tr>\n",
       "      <th>5</th>\n",
       "      <td>0.690790</td>\n",
       "      <td>0.674297</td>\n",
       "      <td>0.641180</td>\n",
       "      <td>0.670867</td>\n",
       "      <td>0.683336</td>\n",
       "      <td>0.655825</td>\n",
       "    </tr>\n",
       "    <tr>\n",
       "      <th>6</th>\n",
       "      <td>0.637551</td>\n",
       "      <td>0.612218</td>\n",
       "      <td>0.618815</td>\n",
       "      <td>0.657738</td>\n",
       "      <td>0.633725</td>\n",
       "      <td>0.634384</td>\n",
       "    </tr>\n",
       "    <tr>\n",
       "      <th>7</th>\n",
       "      <td>0.633933</td>\n",
       "      <td>0.617110</td>\n",
       "      <td>0.571466</td>\n",
       "      <td>0.620696</td>\n",
       "      <td>0.615936</td>\n",
       "      <td>0.612741</td>\n",
       "    </tr>\n",
       "    <tr>\n",
       "      <th>8</th>\n",
       "      <td>0.680099</td>\n",
       "      <td>0.676448</td>\n",
       "      <td>0.650496</td>\n",
       "      <td>0.663537</td>\n",
       "      <td>0.671296</td>\n",
       "      <td>0.682512</td>\n",
       "    </tr>\n",
       "    <tr>\n",
       "      <th>9</th>\n",
       "      <td>0.650039</td>\n",
       "      <td>0.627478</td>\n",
       "      <td>0.615219</td>\n",
       "      <td>0.577921</td>\n",
       "      <td>0.648474</td>\n",
       "      <td>0.604004</td>\n",
       "    </tr>\n",
       "    <tr>\n",
       "      <th>10</th>\n",
       "      <td>0.640058</td>\n",
       "      <td>0.640058</td>\n",
       "      <td>0.615649</td>\n",
       "      <td>0.663808</td>\n",
       "      <td>0.672582</td>\n",
       "      <td>0.697388</td>\n",
       "    </tr>\n",
       "    <tr>\n",
       "      <th>11</th>\n",
       "      <td>0.675353</td>\n",
       "      <td>0.670405</td>\n",
       "      <td>0.600277</td>\n",
       "      <td>0.606676</td>\n",
       "      <td>0.641509</td>\n",
       "      <td>0.636100</td>\n",
       "    </tr>\n",
       "    <tr>\n",
       "      <th>12</th>\n",
       "      <td>0.637389</td>\n",
       "      <td>0.632694</td>\n",
       "      <td>0.598005</td>\n",
       "      <td>0.593179</td>\n",
       "      <td>0.635237</td>\n",
       "      <td>0.608764</td>\n",
       "    </tr>\n",
       "    <tr>\n",
       "      <th>13</th>\n",
       "      <td>0.665754</td>\n",
       "      <td>0.641367</td>\n",
       "      <td>0.648800</td>\n",
       "      <td>0.649583</td>\n",
       "      <td>0.635824</td>\n",
       "      <td>0.650561</td>\n",
       "    </tr>\n",
       "    <tr>\n",
       "      <th>14</th>\n",
       "      <td>0.678078</td>\n",
       "      <td>0.686033</td>\n",
       "      <td>0.635955</td>\n",
       "      <td>0.661776</td>\n",
       "      <td>0.654669</td>\n",
       "      <td>0.677947</td>\n",
       "    </tr>\n",
       "  </tbody>\n",
       "</table>\n",
       "</div>"
      ],
      "text/plain": [
       "    Logit (small)  Logit (large)  RF (small)  RF (large)  XGB (small)  \\\n",
       "0        0.660113       0.659718    0.670009    0.652989     0.641575   \n",
       "1        0.721731       0.700884    0.683072    0.687162     0.738884   \n",
       "2        0.633868       0.595201    0.640649    0.656755     0.643910   \n",
       "3        0.599504       0.576813    0.550078    0.535211     0.587246   \n",
       "4        0.685576       0.672209    0.635759    0.697248     0.634194   \n",
       "5        0.690790       0.674297    0.641180    0.670867     0.683336   \n",
       "6        0.637551       0.612218    0.618815    0.657738     0.633725   \n",
       "7        0.633933       0.617110    0.571466    0.620696     0.615936   \n",
       "8        0.680099       0.676448    0.650496    0.663537     0.671296   \n",
       "9        0.650039       0.627478    0.615219    0.577921     0.648474   \n",
       "10       0.640058       0.640058    0.615649    0.663808     0.672582   \n",
       "11       0.675353       0.670405    0.600277    0.606676     0.641509   \n",
       "12       0.637389       0.632694    0.598005    0.593179     0.635237   \n",
       "13       0.665754       0.641367    0.648800    0.649583     0.635824   \n",
       "14       0.678078       0.686033    0.635955    0.661776     0.654669   \n",
       "\n",
       "    XGB (large)  \n",
       "0      0.635968  \n",
       "1      0.720148  \n",
       "2      0.640128  \n",
       "3      0.543492  \n",
       "4      0.690728  \n",
       "5      0.655825  \n",
       "6      0.634384  \n",
       "7      0.612741  \n",
       "8      0.682512  \n",
       "9      0.604004  \n",
       "10     0.697388  \n",
       "11     0.636100  \n",
       "12     0.608764  \n",
       "13     0.650561  \n",
       "14     0.677947  "
      ]
     },
     "execution_count": 74,
     "metadata": {},
     "output_type": "execute_result"
    }
   ],
   "source": [
    "# Here I generate a data from the scores\n",
    "scores = [logit_scores_small, logit_scores_large, rf_scores_small, rf_scores_large, xgb_scores_small, xgb_scores_large]\n",
    "names = ['Logit (small)', 'Logit (large)', 'RF (small)', 'RF (large)', 'XGB (small)', 'XGB (large)']\n",
    "\n",
    "val_scores = pd.DataFrame(data = np.column_stack(scores), columns = names)\n",
    "val_scores"
   ]
  },
  {
   "cell_type": "code",
   "execution_count": 75,
   "metadata": {},
   "outputs": [
    {
     "data": {
      "image/png": "[encoded data removed]",
      "text/plain": [
       "<Figure size 800x550 with 1 Axes>"
      ]
     },
     "metadata": {},
     "output_type": "display_data"
    }
   ],
   "source": [
    "# A bxplot for the results\n",
    "sns.boxplot(data = val_scores)\n",
    "plt.title('5-fold Cross-Validation Results for Benchmark Models')\n",
    "plt.show()\n",
    "plt.close()"
   ]
  },
  {
   "cell_type": "markdown",
   "metadata": {},
   "source": [
    "As it should be expected, logistic regression's performance suffers from additional features that were shown to be insignificant based on the t-test. Random Forest performance increases with more data but results have more variance. Meanwhile the XGB classifier had the best ROC-AUC score with the smaller dataset. With more features, the mean ROC-AUC score in the 15 fits decreases while variance rises. Therefore, for further demos the XGB Classifier can be picked with the dataset with less features.  "
   ]
  }
 ],
 "metadata": {
  "kernelspec": {
   "display_name": "anbs_2",
   "language": "python",
   "name": "python3"
  },
  "language_info": {
   "codemirror_mode": {
    "name": "ipython",
    "version": 3
   },
   "file_extension": ".py",
   "mimetype": "text/x-python",
   "name": "python",
   "nbconvert_exporter": "python",
   "pygments_lexer": "ipython3",
   "version": "3.8.17"
  },
  "orig_nbformat": 4
 },
 "nbformat": 4,
 "nbformat_minor": 2
}
