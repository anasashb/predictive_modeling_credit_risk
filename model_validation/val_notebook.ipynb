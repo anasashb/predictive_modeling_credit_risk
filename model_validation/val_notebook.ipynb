{
 "cells": [
  {
   "cell_type": "markdown",
   "metadata": {},
   "source": [
    "Below the use of a class tailored for cross-validating logistic regression, RF and XGBoost classifiers will be demonstrated on the two differing datasets obtained in the repository's data prep section.\n",
    "\n",
    "For grid search and validation, the evaluation metric will be the $F1$ score, as one could argue from a credit risk standpoint it is more important to strike a balance between precision and recall, than for example to evaluate in terms of ROC-AUC. \n",
    "\n",
    "Especially, using roc-auc for these validations would result in models that will severely underpredict credit defaults (in other words, will have a very low recall on the positive class)."
   ]
  },
  {
   "cell_type": "code",
   "execution_count": 1,
   "metadata": {},
   "outputs": [],
   "source": [
    "import pickle\n",
    "import numpy as np\n",
    "import matplotlib.pyplot as plt\n",
    "plt.style.use('seaborn-v0_8')\n",
    "import pandas as pd\n",
    "import seaborn as sns\n",
    "\n",
    "from xgboost import XGBClassifier\n",
    "from sklearn.ensemble import RandomForestClassifier\n",
    "from sklearn.linear_model import LogisticRegression\n",
    "from sklearn.preprocessing import StandardScaler\n",
    "from sklearn.pipeline import make_pipeline\n",
    "from sklearn.pipeline import Pipeline\n",
    "from sklearn.compose import ColumnTransformer\n",
    "from sklearn.model_selection import cross_val_score\n",
    "from sklearn.model_selection import RepeatedStratifiedKFold\n",
    "from sklearn.model_selection import GridSearchCV"
   ]
  },
  {
   "cell_type": "code",
   "execution_count": 2,
   "metadata": {},
   "outputs": [],
   "source": [
    "# Importing the dataset where some of the features were dropped based on t-test results\n",
    "train_path='/home/RDC/anasashb/Dokumente/brent_price_forecasting/data_prep_and_selection/train_small.pkl' \n",
    "test_path='/home/RDC/anasashb/Dokumente/brent_price_forecasting/data_prep_and_selection/test_small.pkl'\n",
    "\n",
    "with open(train_path, 'rb') as f:\n",
    "    train = pickle.load(f)\n",
    "\n",
    "with open(test_path, 'rb') as f:\n",
    "    test = pickle.load(f)"
   ]
  },
  {
   "cell_type": "code",
   "execution_count": 3,
   "metadata": {},
   "outputs": [
    {
     "name": "stdout",
     "output_type": "stream",
     "text": [
      "Train set shapes - X: (1424, 12), y: (1424,)\n",
      "Test set shapes - X: (245, 12), y: (245,)\n"
     ]
    }
   ],
   "source": [
    "# Generate sets for predictors and targets\n",
    "X_train = train.drop('BAD', axis=1)\n",
    "y_train = train['BAD']\n",
    "X_test = test.drop('BAD', axis=1)\n",
    "y_test = test['BAD']\n",
    "\n",
    "print(f'Train set shapes - X: {X_train.shape}, y: {y_train.shape}\\nTest set shapes - X: {X_test.shape}, y: {y_test.shape}')"
   ]
  },
  {
   "cell_type": "code",
   "execution_count": 4,
   "metadata": {},
   "outputs": [],
   "source": [
    "# Importing the dataset without excluded features\n",
    "train_large_path='/home/RDC/anasashb/Dokumente/brent_price_forecasting/data_prep_and_selection/train.pkl' \n",
    "test_large_path='/home/RDC/anasashb/Dokumente/brent_price_forecasting/data_prep_and_selection/test.pkl'\n",
    "\n",
    "with open(train_large_path, 'rb') as f:\n",
    "    train_large = pickle.load(f)\n",
    "\n",
    "with open(test_large_path, 'rb') as f:\n",
    "    test_large = pickle.load(f)"
   ]
  },
  {
   "cell_type": "code",
   "execution_count": 5,
   "metadata": {},
   "outputs": [
    {
     "name": "stdout",
     "output_type": "stream",
     "text": [
      "Train set shapes - X: (1424, 18), y: (1424,)\n",
      "Test set shapes - X: (245, 18), y: (245,)\n"
     ]
    }
   ],
   "source": [
    "# Generate sets for predictors and targets\n",
    "X_train_large = train_large.drop('BAD', axis=1)\n",
    "y_train_large = train_large['BAD']\n",
    "X_test_large = test_large.drop('BAD', axis=1)\n",
    "y_test_large = test_large['BAD']\n",
    "\n",
    "print(f'Train set shapes - X: {X_train_large.shape}, y: {y_train_large.shape}\\nTest set shapes - X: {X_test_large.shape}, y: {y_test_large.shape}')"
   ]
  },
  {
   "cell_type": "markdown",
   "metadata": {},
   "source": [
    "### **Model Validation Class**\n",
    "\n",
    "The validation class includes methods to 5-fold cross validate Logistic regression, Random Forest and XGBoost classifiers. Besides, grid search methods are included for RF and XGB. "
   ]
  },
  {
   "cell_type": "code",
   "execution_count": 22,
   "metadata": {},
   "outputs": [],
   "source": [
    "# Here we begin defining the class\n",
    "# Cross-validation will be included in all models\n",
    "\n",
    "class ModelValidator:\n",
    "    '''\n",
    "    A custom class to wrap up model k-fold validation functionalities.\n",
    "    '''\n",
    "\n",
    "    # Defining initial arguments\n",
    "    def __init__(self, X, y):\n",
    "        # Defining initial class inputs as self arguments\n",
    "        self.X = X\n",
    "        self.y = y\n",
    "\n",
    "    def Logit_validate(self):\n",
    "        '''\n",
    "        Fits a Logistic regression model given predictors and a target. \n",
    "        \n",
    "        Args:\n",
    "            alpha: The L2 penalty value - also called lambda for Ridge Regression.\n",
    "            tuning: Boolean argument. If set to True, a grid search will be carried out for alpha values\n",
    "                between 0.01 and 1 with step size of 0.01. \n",
    "                Note that setting to 0 (linear regression without any penalties ) will cause model to break down.\n",
    "        Returns:\n",
    "            logit_scores: An array of 15 F1 scores obtained from fitting the five folds three times. \n",
    "        '''\n",
    "\n",
    "        # Define cross validation method\n",
    "        # Use five fold\n",
    "        cv = RepeatedStratifiedKFold(n_splits = 5, n_repeats = 3, random_state = 66)\n",
    "        # Set up model\n",
    "        model = LogisticRegression()\n",
    "\n",
    "        # To avoid scaling dummy variables\n",
    "        non_binary = [col for col in self.X.columns if self.X[col].nunique()>2]\n",
    "        scaler = ColumnTransformer(\n",
    "            transformers=[\n",
    "                ('scale', StandardScaler(), non_binary)\n",
    "                ],\n",
    "                remainder='passthrough'\n",
    "                )  \n",
    "\n",
    "        # Using make_pipeline for our purposes should ensure there is no data leakage \n",
    "        # while scaling the folds\n",
    "        pipeline = make_pipeline(scaler, model)\n",
    "        \n",
    "        # F1 for evaluation, as we don't want low recall on positive class\n",
    "        logit_scores = cross_val_score(pipeline, self.X, self.y, scoring = 'f1', cv = cv, n_jobs = -1)\n",
    "\n",
    "        print('Results:')\n",
    "        print('-'*100)\n",
    "        print(f'Logistic Regression F1: {np.mean(logit_scores):.4f} | Standard Deviation: {np.std(logit_scores):.4f} |')\n",
    "        print('='*100)\n",
    "\n",
    "        return logit_scores\n",
    "    \n",
    "    \n",
    "    def RF_search(self,\n",
    "                  estimator_range=(50,1001,50),\n",
    "                  depth_range=(10,51,10)):\n",
    "\n",
    "        '''\n",
    "        Simple method to conduct grid search for Random Forest Classifier.\n",
    "        \n",
    "        Args:\n",
    "            estimator_range: (min, max, step) tuple of integers for n_estimators in parameter grid \n",
    "            depth_range: (min, max, step) tuple of integers for max_depth in parameter grid \n",
    "        Returns:\n",
    "            best_estimator, best_score\n",
    "        '''\n",
    "        # Set up cv\n",
    "        cv = RepeatedStratifiedKFold(n_splits=5, n_repeats=3, random_state=66)\n",
    "        # Set up model \n",
    "        model = RandomForestClassifier(random_state=66)\n",
    "        # Set up grid\n",
    "        param_grid = {\n",
    "            'n_estimators': list(range(estimator_range[0], estimator_range[1], estimator_range[2])),\n",
    "            'max_depth': list(range(depth_range[0], depth_range[1], depth_range[2]))\n",
    "        }\n",
    "        # Set up search\n",
    "        search = GridSearchCV(model, param_grid, scoring='f1', cv=cv, n_jobs=-1, verbose=1)\n",
    "        # Run search\n",
    "        search.fit(self.X, self.y)\n",
    "        print('Results:')\n",
    "        print('-'*100)\n",
    "        print(f'Best RF F1 score: {search.best_score_:.4f}')\n",
    "        print(f'Best Parameters: {search.best_params_}')\n",
    "        print('='*100)\n",
    "        \n",
    "        return search.best_estimator_, search.best_score_\n",
    "\n",
    "    def RF_validate(self,\n",
    "                    n_estimators = 100,\n",
    "                    max_depth = 20,\n",
    "                    min_samples_split = 2,\n",
    "                    max_features = 'sqrt'):\n",
    "        '''\n",
    "        Fits and cross validates Random Forest classification model given predictors and a target.\n",
    "\n",
    "        Args:\n",
    "            n_estimators: How many trees to include in the ensemble (100 by default)\n",
    "            max_depth: Maximum depth of a tree (20 by default)\n",
    "            min_samples_split: Minimum amount of samples to split a node (2 by default)\n",
    "            max_features: Number of features to consider when searching for best split ('sqrt' by default)\n",
    "\n",
    "        Returns:\n",
    "            rf_scores: An array of 15 F1 scores obtained from fitting the five folds three times.\n",
    "\n",
    "        '''\n",
    "        # Set up CV\n",
    "        cv = RepeatedStratifiedKFold(n_splits = 5, n_repeats = 3, random_state = 66)\n",
    "        model = RandomForestClassifier(n_estimators = n_estimators,\n",
    "                                      max_depth = max_depth,\n",
    "                                      min_samples_split = min_samples_split,\n",
    "                                      max_features = max_features,\n",
    "                                      random_state = 66\n",
    "                                      )\n",
    "        # Same scoring\n",
    "        rf_scores = cross_val_score(model, self.X, self.y, scoring = 'f1', cv = cv, n_jobs = -1)\n",
    "        \n",
    "        print('Results:')\n",
    "        print('-'*100)\n",
    "        print(f'RF Classifier F1: {np.mean(rf_scores):.4f} | Standard Deviation: {np.std(rf_scores):.4f} |')\n",
    "        print('='*100)\n",
    "\n",
    "        return rf_scores\n",
    "    \n",
    "\n",
    "    def XGB_search(self,\n",
    "                  estimator_range=(50,1001,50),\n",
    "                  depth_range=(2,11,1),\n",
    "                  lr_range=[0.01, 0.05, 0.1, 0.3, 0.5]):\n",
    "\n",
    "        '''\n",
    "        Simple method to conduct grid search for XGBoost Classifier.\n",
    "        \n",
    "        Args:\n",
    "            estimator_range: (min, max, step) tuple of integers for n_estimators in parameter grid \n",
    "            depth_range: (min, max, step) tuple of integers for max_depth in parameter grid\n",
    "            lr_range: list of floats for learning_rate in param grid \n",
    "        Returns:\n",
    "            best_estimator, best_score\n",
    "        '''\n",
    "        # Set up cv\n",
    "        cv = RepeatedStratifiedKFold(n_splits=5, n_repeats=3, random_state=66)\n",
    "        # Set up model \n",
    "        model = XGBClassifier(eval_metric='logloss', random_state=66)\n",
    "        # Set up grid\n",
    "        param_grid = {\n",
    "            'n_estimators': list(range(estimator_range[0], estimator_range[1], estimator_range[2])),\n",
    "            'max_depth': list(range(depth_range[0], depth_range[1], depth_range[2])),\n",
    "            'learning_rate': lr_range\n",
    "        }\n",
    "        # Set up search\n",
    "        search = GridSearchCV(model, param_grid, scoring='f1', cv=cv, n_jobs=-1, verbose=1)\n",
    "        # Run search\n",
    "        search.fit(self.X, self.y)\n",
    "        print('Results:')\n",
    "        print('-'*100)\n",
    "        print(f'Best XGB F1 score: {search.best_score_:.4f}')\n",
    "        print(f'Best Parameters: {search.best_params_}')\n",
    "        print('='*100)\n",
    "        \n",
    "        return search.best_estimator_, search.best_score_        \n",
    "    \n",
    "    def XGB_validate(self,\n",
    "                    n_estimators = 500,\n",
    "                    max_depth = 5,\n",
    "                    learning_rate=0.3):\n",
    "        '''\n",
    "        Fits an extreme gradient boosting classification model given predictors and a target.\n",
    "\n",
    "        Args:\n",
    "            n_estimators: How many trees to include in the ensemble (500 by default)\n",
    "            max_depth: Maximum depth of a tree (5 by default)\n",
    "            learning_rate: Learning rate (0.3 by default)\n",
    "\n",
    "        Returns:\n",
    "            xgb_scores: An array of 15 F1 scores obtained from fitting the five folds three times.\n",
    "\n",
    "        '''\n",
    "        # Set up CV\n",
    "        cv = RepeatedStratifiedKFold(n_splits = 5, n_repeats = 3, random_state = 66)\n",
    "        # Set up model\n",
    "        model = XGBClassifier(n_estimators = n_estimators,\n",
    "                                      max_depth = max_depth,\n",
    "                                      learning_rate=learning_rate,\n",
    "                                      random_state = 66\n",
    "                                      )\n",
    "        # Same pipeline\n",
    "        # Same scoring\n",
    "        xgb_scores = cross_val_score(model, self.X, self.y, scoring = 'f1', cv = cv, n_jobs = -1)\n",
    "        \n",
    "        print('Results:')\n",
    "        print('-'*100)\n",
    "        print(f'XGB Classifier F1: {np.mean(xgb_scores):.4f} | Standard Deviation: {np.std(xgb_scores):.4f} |')\n",
    "        print('='*100)\n",
    "\n",
    "        return xgb_scores\n"
   ]
  },
  {
   "cell_type": "markdown",
   "metadata": {},
   "source": [
    "### **Validation Runs on Small Dataset**\n",
    "Below the model validation class is used on train set of the smaller dataset, which had features dropped as per t-test results.\n",
    "\n",
    "Noteworthy that these are done on upsampled train sets, meaning the performance on the unaltered test set is expected to be worse. "
   ]
  },
  {
   "cell_type": "code",
   "execution_count": 23,
   "metadata": {},
   "outputs": [],
   "source": [
    "validating_small = ModelValidator(X_train, y_train)"
   ]
  },
  {
   "cell_type": "code",
   "execution_count": 24,
   "metadata": {},
   "outputs": [
    {
     "name": "stdout",
     "output_type": "stream",
     "text": [
      "Results:\n",
      "----------------------------------------------------------------------------------------------------\n",
      "Logistic Regression F1: 0.6331 | Standard Deviation: 0.0349 |\n",
      "====================================================================================================\n"
     ]
    }
   ],
   "source": [
    "# Cross validate logit on smaller train set\n",
    "logit_scores_small = validating_small.Logit_validate()"
   ]
  },
  {
   "cell_type": "code",
   "execution_count": 25,
   "metadata": {},
   "outputs": [
    {
     "name": "stdout",
     "output_type": "stream",
     "text": [
      "Fitting 15 folds for each of 100 candidates, totalling 1500 fits\n",
      "Results:\n",
      "----------------------------------------------------------------------------------------------------\n",
      "Best RF F1 score: 0.7376\n",
      "Best Parameters: {'max_depth': 20, 'n_estimators': 800}\n",
      "====================================================================================================\n"
     ]
    },
    {
     "data": {
      "text/plain": [
       "(RandomForestClassifier(max_depth=20, n_estimators=800, random_state=66),\n",
       " 0.7375588589300751)"
      ]
     },
     "execution_count": 25,
     "metadata": {},
     "output_type": "execute_result"
    }
   ],
   "source": [
    "# Grid search RF on smaller train set\n",
    "validating_small.RF_search()"
   ]
  },
  {
   "cell_type": "code",
   "execution_count": 26,
   "metadata": {},
   "outputs": [
    {
     "name": "stdout",
     "output_type": "stream",
     "text": [
      "Results:\n",
      "----------------------------------------------------------------------------------------------------\n",
      "RF Classifier F1: 0.7376 | Standard Deviation: 0.0202 |\n",
      "====================================================================================================\n"
     ]
    }
   ],
   "source": [
    "rf_scores_small = validating_small.RF_validate(n_estimators=800,\n",
    "                                           max_depth=20)"
   ]
  },
  {
   "cell_type": "code",
   "execution_count": 27,
   "metadata": {},
   "outputs": [
    {
     "name": "stdout",
     "output_type": "stream",
     "text": [
      "Fitting 15 folds for each of 900 candidates, totalling 13500 fits\n",
      "Results:\n",
      "----------------------------------------------------------------------------------------------------\n",
      "Best XGB F1 score: 0.7313\n",
      "Best Parameters: {'learning_rate': 0.1, 'max_depth': 10, 'n_estimators': 150}\n",
      "====================================================================================================\n"
     ]
    },
    {
     "data": {
      "text/plain": [
       "(XGBClassifier(base_score=None, booster=None, callbacks=None,\n",
       "               colsample_bylevel=None, colsample_bynode=None,\n",
       "               colsample_bytree=None, early_stopping_rounds=None,\n",
       "               enable_categorical=False, eval_metric='logloss',\n",
       "               feature_types=None, gamma=None, gpu_id=None, grow_policy=None,\n",
       "               importance_type=None, interaction_constraints=None,\n",
       "               learning_rate=0.1, max_bin=None, max_cat_threshold=None,\n",
       "               max_cat_to_onehot=None, max_delta_step=None, max_depth=10,\n",
       "               max_leaves=None, min_child_weight=None, missing=nan,\n",
       "               monotone_constraints=None, n_estimators=150, n_jobs=None,\n",
       "               num_parallel_tree=None, predictor=None, random_state=66, ...),\n",
       " 0.7312895186741155)"
      ]
     },
     "execution_count": 27,
     "metadata": {},
     "output_type": "execute_result"
    }
   ],
   "source": [
    "validating_small.XGB_search()"
   ]
  },
  {
   "cell_type": "code",
   "execution_count": 28,
   "metadata": {},
   "outputs": [
    {
     "name": "stdout",
     "output_type": "stream",
     "text": [
      "Results:\n",
      "----------------------------------------------------------------------------------------------------\n",
      "XGB Classifier F1: 0.7313 | Standard Deviation: 0.0288 |\n",
      "====================================================================================================\n"
     ]
    }
   ],
   "source": [
    "xgb_scores_small = validating_small.XGB_validate(n_estimators=150, \n",
    "                                                 max_depth=10, \n",
    "                                                 learning_rate=0.1)"
   ]
  },
  {
   "cell_type": "markdown",
   "metadata": {},
   "source": [
    "### **Validation Runs on Large Dataset**\n",
    "Below the model validation class is used on train set of the larger dataset, which had no features dropped."
   ]
  },
  {
   "cell_type": "code",
   "execution_count": 29,
   "metadata": {},
   "outputs": [],
   "source": [
    "validating_large = ModelValidator(X_train_large, y_train_large)"
   ]
  },
  {
   "cell_type": "code",
   "execution_count": 30,
   "metadata": {},
   "outputs": [
    {
     "name": "stdout",
     "output_type": "stream",
     "text": [
      "Results:\n",
      "----------------------------------------------------------------------------------------------------\n",
      "Logistic Regression F1: 0.6431 | Standard Deviation: 0.0355 |\n",
      "====================================================================================================\n"
     ]
    }
   ],
   "source": [
    "# Cross validate logit on larger train set\n",
    "logit_scores_large = validating_large.Logit_validate()"
   ]
  },
  {
   "cell_type": "code",
   "execution_count": 31,
   "metadata": {},
   "outputs": [
    {
     "name": "stdout",
     "output_type": "stream",
     "text": [
      "Fitting 15 folds for each of 100 candidates, totalling 1500 fits\n",
      "Results:\n",
      "----------------------------------------------------------------------------------------------------\n",
      "Best RF F1 score: 0.8000\n",
      "Best Parameters: {'max_depth': 20, 'n_estimators': 450}\n",
      "====================================================================================================\n"
     ]
    },
    {
     "data": {
      "text/plain": [
       "(RandomForestClassifier(max_depth=20, n_estimators=450, random_state=66),\n",
       " 0.7999717623016694)"
      ]
     },
     "execution_count": 31,
     "metadata": {},
     "output_type": "execute_result"
    }
   ],
   "source": [
    "# Grid search RF on smaller train set\n",
    "validating_large.RF_search()"
   ]
  },
  {
   "cell_type": "code",
   "execution_count": 32,
   "metadata": {},
   "outputs": [
    {
     "name": "stdout",
     "output_type": "stream",
     "text": [
      "Results:\n",
      "----------------------------------------------------------------------------------------------------\n",
      "RF Classifier F1: 0.8000 | Standard Deviation: 0.0227 |\n",
      "====================================================================================================\n"
     ]
    }
   ],
   "source": [
    "rf_scores_large = validating_large.RF_validate(n_estimators=450,\n",
    "                                           max_depth=20)"
   ]
  },
  {
   "cell_type": "code",
   "execution_count": 33,
   "metadata": {},
   "outputs": [
    {
     "name": "stdout",
     "output_type": "stream",
     "text": [
      "Fitting 15 folds for each of 900 candidates, totalling 13500 fits\n",
      "Results:\n",
      "----------------------------------------------------------------------------------------------------\n",
      "Best XGB F1 score: 0.7845\n",
      "Best Parameters: {'learning_rate': 0.01, 'max_depth': 9, 'n_estimators': 550}\n",
      "====================================================================================================\n"
     ]
    },
    {
     "data": {
      "text/plain": [
       "(XGBClassifier(base_score=None, booster=None, callbacks=None,\n",
       "               colsample_bylevel=None, colsample_bynode=None,\n",
       "               colsample_bytree=None, early_stopping_rounds=None,\n",
       "               enable_categorical=False, eval_metric='logloss',\n",
       "               feature_types=None, gamma=None, gpu_id=None, grow_policy=None,\n",
       "               importance_type=None, interaction_constraints=None,\n",
       "               learning_rate=0.01, max_bin=None, max_cat_threshold=None,\n",
       "               max_cat_to_onehot=None, max_delta_step=None, max_depth=9,\n",
       "               max_leaves=None, min_child_weight=None, missing=nan,\n",
       "               monotone_constraints=None, n_estimators=550, n_jobs=None,\n",
       "               num_parallel_tree=None, predictor=None, random_state=66, ...),\n",
       " 0.7844631313024306)"
      ]
     },
     "execution_count": 33,
     "metadata": {},
     "output_type": "execute_result"
    }
   ],
   "source": [
    "validating_large.XGB_search()"
   ]
  },
  {
   "cell_type": "code",
   "execution_count": 34,
   "metadata": {},
   "outputs": [
    {
     "name": "stdout",
     "output_type": "stream",
     "text": [
      "Results:\n",
      "----------------------------------------------------------------------------------------------------\n",
      "XGB Classifier F1: 0.7845 | Standard Deviation: 0.0231 |\n",
      "====================================================================================================\n"
     ]
    }
   ],
   "source": [
    "xgb_scores_large = validating_large.XGB_validate(n_estimators=550,\n",
    "                                                 max_depth=9,\n",
    "                                                 learning_rate=0.01)"
   ]
  },
  {
   "cell_type": "markdown",
   "metadata": {},
   "source": [
    "### **Demo Results**"
   ]
  },
  {
   "cell_type": "code",
   "execution_count": 35,
   "metadata": {},
   "outputs": [
    {
     "data": {
      "text/html": [
       "<div>\n",
       "<style scoped>\n",
       "    .dataframe tbody tr th:only-of-type {\n",
       "        vertical-align: middle;\n",
       "    }\n",
       "\n",
       "    .dataframe tbody tr th {\n",
       "        vertical-align: top;\n",
       "    }\n",
       "\n",
       "    .dataframe thead th {\n",
       "        text-align: right;\n",
       "    }\n",
       "</style>\n",
       "<table border=\"1\" class=\"dataframe\">\n",
       "  <thead>\n",
       "    <tr style=\"text-align: right;\">\n",
       "      <th></th>\n",
       "      <th>Logit (small)</th>\n",
       "      <th>Logit (large)</th>\n",
       "      <th>RF (small)</th>\n",
       "      <th>RF (large)</th>\n",
       "      <th>XGB (small)</th>\n",
       "      <th>XGB (large)</th>\n",
       "    </tr>\n",
       "  </thead>\n",
       "  <tbody>\n",
       "    <tr>\n",
       "      <th>0</th>\n",
       "      <td>0.686869</td>\n",
       "      <td>0.652921</td>\n",
       "      <td>0.747331</td>\n",
       "      <td>0.798611</td>\n",
       "      <td>0.750000</td>\n",
       "      <td>0.783784</td>\n",
       "    </tr>\n",
       "    <tr>\n",
       "      <th>1</th>\n",
       "      <td>0.664234</td>\n",
       "      <td>0.698529</td>\n",
       "      <td>0.735714</td>\n",
       "      <td>0.805861</td>\n",
       "      <td>0.750000</td>\n",
       "      <td>0.821818</td>\n",
       "    </tr>\n",
       "    <tr>\n",
       "      <th>2</th>\n",
       "      <td>0.609023</td>\n",
       "      <td>0.635036</td>\n",
       "      <td>0.762887</td>\n",
       "      <td>0.823944</td>\n",
       "      <td>0.744828</td>\n",
       "      <td>0.804196</td>\n",
       "    </tr>\n",
       "    <tr>\n",
       "      <th>3</th>\n",
       "      <td>0.633803</td>\n",
       "      <td>0.650685</td>\n",
       "      <td>0.734694</td>\n",
       "      <td>0.784722</td>\n",
       "      <td>0.680556</td>\n",
       "      <td>0.747475</td>\n",
       "    </tr>\n",
       "    <tr>\n",
       "      <th>4</th>\n",
       "      <td>0.578125</td>\n",
       "      <td>0.592885</td>\n",
       "      <td>0.756184</td>\n",
       "      <td>0.817518</td>\n",
       "      <td>0.707143</td>\n",
       "      <td>0.791519</td>\n",
       "    </tr>\n",
       "    <tr>\n",
       "      <th>5</th>\n",
       "      <td>0.618868</td>\n",
       "      <td>0.609665</td>\n",
       "      <td>0.719178</td>\n",
       "      <td>0.770318</td>\n",
       "      <td>0.728522</td>\n",
       "      <td>0.763889</td>\n",
       "    </tr>\n",
       "    <tr>\n",
       "      <th>6</th>\n",
       "      <td>0.559387</td>\n",
       "      <td>0.575758</td>\n",
       "      <td>0.729927</td>\n",
       "      <td>0.758364</td>\n",
       "      <td>0.696629</td>\n",
       "      <td>0.750929</td>\n",
       "    </tr>\n",
       "    <tr>\n",
       "      <th>7</th>\n",
       "      <td>0.671429</td>\n",
       "      <td>0.680556</td>\n",
       "      <td>0.734694</td>\n",
       "      <td>0.823105</td>\n",
       "      <td>0.761905</td>\n",
       "      <td>0.778947</td>\n",
       "    </tr>\n",
       "    <tr>\n",
       "      <th>8</th>\n",
       "      <td>0.659722</td>\n",
       "      <td>0.687719</td>\n",
       "      <td>0.761566</td>\n",
       "      <td>0.815331</td>\n",
       "      <td>0.742268</td>\n",
       "      <td>0.797203</td>\n",
       "    </tr>\n",
       "    <tr>\n",
       "      <th>9</th>\n",
       "      <td>0.629213</td>\n",
       "      <td>0.631970</td>\n",
       "      <td>0.770318</td>\n",
       "      <td>0.787456</td>\n",
       "      <td>0.782313</td>\n",
       "      <td>0.788732</td>\n",
       "    </tr>\n",
       "    <tr>\n",
       "      <th>10</th>\n",
       "      <td>0.621723</td>\n",
       "      <td>0.631970</td>\n",
       "      <td>0.747331</td>\n",
       "      <td>0.820690</td>\n",
       "      <td>0.734007</td>\n",
       "      <td>0.818182</td>\n",
       "    </tr>\n",
       "    <tr>\n",
       "      <th>11</th>\n",
       "      <td>0.613718</td>\n",
       "      <td>0.661972</td>\n",
       "      <td>0.700000</td>\n",
       "      <td>0.794613</td>\n",
       "      <td>0.691525</td>\n",
       "      <td>0.760943</td>\n",
       "    </tr>\n",
       "    <tr>\n",
       "      <th>12</th>\n",
       "      <td>0.666667</td>\n",
       "      <td>0.656604</td>\n",
       "      <td>0.701107</td>\n",
       "      <td>0.827839</td>\n",
       "      <td>0.767606</td>\n",
       "      <td>0.811594</td>\n",
       "    </tr>\n",
       "    <tr>\n",
       "      <th>13</th>\n",
       "      <td>0.666667</td>\n",
       "      <td>0.680851</td>\n",
       "      <td>0.735786</td>\n",
       "      <td>0.812081</td>\n",
       "      <td>0.724138</td>\n",
       "      <td>0.787879</td>\n",
       "    </tr>\n",
       "    <tr>\n",
       "      <th>14</th>\n",
       "      <td>0.617021</td>\n",
       "      <td>0.600000</td>\n",
       "      <td>0.726667</td>\n",
       "      <td>0.759124</td>\n",
       "      <td>0.707904</td>\n",
       "      <td>0.759857</td>\n",
       "    </tr>\n",
       "  </tbody>\n",
       "</table>\n",
       "</div>"
      ],
      "text/plain": [
       "    Logit (small)  Logit (large)  RF (small)  RF (large)  XGB (small)  \\\n",
       "0        0.686869       0.652921    0.747331    0.798611     0.750000   \n",
       "1        0.664234       0.698529    0.735714    0.805861     0.750000   \n",
       "2        0.609023       0.635036    0.762887    0.823944     0.744828   \n",
       "3        0.633803       0.650685    0.734694    0.784722     0.680556   \n",
       "4        0.578125       0.592885    0.756184    0.817518     0.707143   \n",
       "5        0.618868       0.609665    0.719178    0.770318     0.728522   \n",
       "6        0.559387       0.575758    0.729927    0.758364     0.696629   \n",
       "7        0.671429       0.680556    0.734694    0.823105     0.761905   \n",
       "8        0.659722       0.687719    0.761566    0.815331     0.742268   \n",
       "9        0.629213       0.631970    0.770318    0.787456     0.782313   \n",
       "10       0.621723       0.631970    0.747331    0.820690     0.734007   \n",
       "11       0.613718       0.661972    0.700000    0.794613     0.691525   \n",
       "12       0.666667       0.656604    0.701107    0.827839     0.767606   \n",
       "13       0.666667       0.680851    0.735786    0.812081     0.724138   \n",
       "14       0.617021       0.600000    0.726667    0.759124     0.707904   \n",
       "\n",
       "    XGB (large)  \n",
       "0      0.783784  \n",
       "1      0.821818  \n",
       "2      0.804196  \n",
       "3      0.747475  \n",
       "4      0.791519  \n",
       "5      0.763889  \n",
       "6      0.750929  \n",
       "7      0.778947  \n",
       "8      0.797203  \n",
       "9      0.788732  \n",
       "10     0.818182  \n",
       "11     0.760943  \n",
       "12     0.811594  \n",
       "13     0.787879  \n",
       "14     0.759857  "
      ]
     },
     "execution_count": 35,
     "metadata": {},
     "output_type": "execute_result"
    }
   ],
   "source": [
    "# Here I generate a data from the scores\n",
    "scores = [logit_scores_small, logit_scores_large, rf_scores_small, rf_scores_large, xgb_scores_small, xgb_scores_large]\n",
    "names = ['Logit (small)', 'Logit (large)', 'RF (small)', 'RF (large)', 'XGB (small)', 'XGB (large)']\n",
    "\n",
    "val_scores = pd.DataFrame(data = np.column_stack(scores), columns = names)\n",
    "val_scores"
   ]
  },
  {
   "cell_type": "code",
   "execution_count": 36,
   "metadata": {},
   "outputs": [
    {
     "data": {
      "image/png": "[encoded data removed]",
      "text/plain": [
       "<Figure size 800x550 with 1 Axes>"
      ]
     },
     "metadata": {},
     "output_type": "display_data"
    }
   ],
   "source": [
    "# A bxplot for the results\n",
    "sns.boxplot(data = val_scores)\n",
    "plt.title('5-fold Cross-Validation Results for Benchmark Models')\n",
    "plt.ylabel('$F1$ Score')\n",
    "plt.show()\n",
    "plt.close()"
   ]
  },
  {
   "cell_type": "markdown",
   "metadata": {},
   "source": [
    "As it can be seen, in this case feature selection based on the t-test did not necessarily yield any benefits. Especially, with the tree-based models performance increases when including features that were deemed insignificant with the t-test. This is expected due to the non-linear nature of the tree based models, as well as their robustness toward multicolinearity and high dimensionality of features.\n",
    "\n",
    "For evaluation on the test set, the Random Forest can be used with the large dataset, as it achieved higher average $F1$ score with less variance, all the while having a higher median than its XGB counterpart. "
   ]
  }
 ],
 "metadata": {
  "kernelspec": {
   "display_name": "anbs_2",
   "language": "python",
   "name": "python3"
  },
  "language_info": {
   "codemirror_mode": {
    "name": "ipython",
    "version": 3
   },
   "file_extension": ".py",
   "mimetype": "text/x-python",
   "name": "python",
   "nbconvert_exporter": "python",
   "pygments_lexer": "ipython3",
   "version": "3.8.17"
  },
  "orig_nbformat": 4
 },
 "nbformat": 4,
 "nbformat_minor": 2
}
